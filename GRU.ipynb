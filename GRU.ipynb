{
  "nbformat": 4,
  "nbformat_minor": 0,
  "metadata": {
    "colab": {
      "provenance": []
    },
    "kernelspec": {
      "display_name": "Python 3",
      "name": "python3"
    },
    "language_info": {
      "name": "python"
    }
  },
  "cells": [
    {
      "cell_type": "code",
      "metadata": {
        "id": "JngeUiPk0I_W"
      },
      "source": [
        "import re\n",
        "import numpy as np \n",
        "import pandas as pd\n",
        "import random\n",
        "from sklearn.feature_extraction.text import CountVectorizer\n",
        "from sklearn.model_selection import train_test_split\n",
        "from keras.preprocessing.text import Tokenizer\n",
        "from keras.preprocessing.sequence import pad_sequences\n",
        "from keras.models import Sequential\n",
        "from keras.layers import Dense, Embedding, SpatialDropout1D,GRU ,Flatten\n",
        "from keras.utils.np_utils import to_categorical\n",
        "import matplotlib.pyplot as plt\n"
      ],
      "execution_count": null,
      "outputs": []
    },
    {
      "cell_type": "code",
      "metadata": {
        "id": "9TMKcpqR1Lxc"
      },
      "source": [
        "#file reader\n",
        "TrainData = pd.read_csv('/content/TrainData.csv')\n",
        "TrainGT=pd.read_csv('/content/TrainGT.csv')\n",
        "ValidationData=pd.read_csv('/content/ValidationData.csv')\n",
        "ValidationGT=pd.read_csv('/content/ValidationGT.csv')\n",
        "TestData=pd.read_csv('/content/TestData.csv')"
      ],
      "execution_count": null,
      "outputs": []
    },
    {
      "cell_type": "code",
      "metadata": {
        "id": "DcZIWZan1McF"
      },
      "source": [
        "#preprocessing text\n",
        "def preprocess_text(sen):\n",
        "    sen['text'] = sen['text'].apply(lambda x: x.lower())\n",
        "    sen['text'] = sen['text'].apply(lambda x: re.sub('[^a-zA-z0-9\\s]','',x))\n",
        "    sen['ID']=sen['ID']\n",
        "    return sen\n",
        "\n",
        "sen_TrainData = preprocess_text(TrainData)\n",
        "##sen_TrainData=sen_TrainData[0:500]\n",
        "sen_ValidationData=preprocess_text(ValidationData)\n",
        "#sen_ValidationData=sen_ValidationData[0:50]\n",
        "sen_ID=preprocess_text(TrainData)\n",
        "sen_val_ID=preprocess_text(ValidationData)\n",
        "sen_test_data=preprocess_text(TestData)"
      ],
      "execution_count": null,
      "outputs": []
    },
    {
      "cell_type": "code",
      "metadata": {
        "id": "WOEG9cE-1NJ8"
      },
      "source": [
        "def tokeniz(max_fature,sen):\n",
        "    global X , max_fatures,k,tokenizer\n",
        "    max_fatures = max_fature\n",
        "    tokenizer = Tokenizer(num_words=max_fatures, split=' ')\n",
        "    tokenizer.fit_on_texts(sen['text'].values )\n",
        "    X = tokenizer.texts_to_sequences(sen['text'].values)\n",
        "    X= pad_sequences(X)\n",
        "    return X\n",
        "X_TrainData=tokeniz(2000,sen_TrainData)\n",
        "X_ValidationData=tokeniz(2000,sen_ValidationData)\n",
        "#X_ValidationData=X_ValidationData[0:50]\n",
        "X_TestData=tokeniz(2000,sen_test_data)"
      ],
      "execution_count": null,
      "outputs": []
    },
    {
      "cell_type": "code",
      "metadata": {
        "colab": {
          "base_uri": "https://localhost:8080/"
        },
        "id": "kgzSvT_h1Nx_",
        "outputId": "d25f3eae-ebc8-4f6d-c5ab-d3d433f6318c"
      },
      "source": [
        "def sentiment(data_GT,x_data):\n",
        "    data_GT=data_GT[['sentiment']]\n",
        "    data_GT = data_GT[data_GT['sentiment'] != \"Neutral\"]\n",
        "    label_data = pd.get_dummies(data_GT[0:len(x_data)]['sentiment']).values\n",
        "    print('Size : ',data_GT[ data_GT['sentiment'] == 1].size)\n",
        "    print('Size : ',data_GT[ data_GT['sentiment'] == 0].size)\n",
        "    return label_data\n",
        "Y_TrainData= sentiment(TrainGT,X_TrainData)\n",
        "Y_ValidationData=sentiment(ValidationGT,X_ValidationData)"
      ],
      "execution_count": null,
      "outputs": [
        {
          "output_type": "stream",
          "text": [
            "Size :  19981\n",
            "Size :  20019\n",
            "Size :  2514\n",
            "Size :  2486\n"
          ],
          "name": "stdout"
        }
      ]
    },
    {
      "cell_type": "code",
      "metadata": {
        "colab": {
          "base_uri": "https://localhost:8080/"
        },
        "id": "JK1JVVgR1Ocb",
        "outputId": "aac72729-b0b2-4083-cbac-e83ba39202f5"
      },
      "source": [
        "X_train, X_test, Y_train, Y_test = train_test_split(X_TrainData,Y_TrainData, test_size = 0.33, random_state = 42)\n",
        "X_ValData,X_testValData, Y_ValData,Y_testValData = train_test_split(X_ValidationData,Y_ValidationData, random_state = 42)\n",
        "#print(Y_test)\n",
        "#print (X_test)\n",
        "print(X_train.shape,Y_train.shape)\n",
        "print(X_test.shape,Y_test.shape)"
      ],
      "execution_count": null,
      "outputs": [
        {
          "output_type": "stream",
          "text": [
            "(26800, 1871) (26800, 2)\n",
            "(13200, 1871) (13200, 2)\n"
          ],
          "name": "stdout"
        }
      ]
    },
    {
      "cell_type": "code",
      "metadata": {
        "colab": {
          "base_uri": "https://localhost:8080/"
        },
        "id": "IltH2Y9h3EZO",
        "outputId": "d0dff9a8-47ba-4c2a-f129-fb77c2166a34"
      },
      "source": [
        "embed_dim = 128\n",
        "model = Sequential()\n",
        "X_TrainData=tokeniz(2000,sen_TrainData)\n",
        "model.add(Embedding(max_fatures, embed_dim,input_length = X_TrainData.shape[1]))\n",
        "model.add(SpatialDropout1D(0.4))\n",
        "model.add(GRU(units=32))\n",
        "model.add(Dense(2,activation='softmax'))\n",
        "model.compile(loss = 'categorical_crossentropy', optimizer='adam',metrics = ['accuracy'])\n",
        "print(model.summary())"
      ],
      "execution_count": null,
      "outputs": [
        {
          "output_type": "stream",
          "text": [
            "Model: \"sequential\"\n",
            "_________________________________________________________________\n",
            "Layer (type)                 Output Shape              Param #   \n",
            "=================================================================\n",
            "embedding (Embedding)        (None, 1871, 128)         256000    \n",
            "_________________________________________________________________\n",
            "spatial_dropout1d (SpatialDr (None, 1871, 128)         0         \n",
            "_________________________________________________________________\n",
            "gru (GRU)                    (None, 32)                15552     \n",
            "_________________________________________________________________\n",
            "dense (Dense)                (None, 2)                 66        \n",
            "=================================================================\n",
            "Total params: 271,618\n",
            "Trainable params: 271,618\n",
            "Non-trainable params: 0\n",
            "_________________________________________________________________\n",
            "None\n"
          ],
          "name": "stdout"
        }
      ]
    },
    {
      "cell_type": "code",
      "metadata": {
        "colab": {
          "base_uri": "https://localhost:8080/"
        },
        "id": "yXKzmA7t3FKM",
        "outputId": "371ecb0a-76d5-42f4-cf26-a68c745962d2"
      },
      "source": [
        "batch_size = 128\n",
        "history = model.fit(X_train, Y_train, batch_size=batch_size, epochs=7, verbose=2 ,validation_split=0.2,validation_data=(X_test,Y_test))\n",
        "score = model.evaluate(X_test, Y_test, verbose=2)\n",
        "print(\"Test Score:\" ,score[0])\n",
        "print(\"Test Accuracy:\" , score[1])"
      ],
      "execution_count": null,
      "outputs": [
        {
          "output_type": "stream",
          "text": [
            "Epoch 1/7\n",
            "168/168 - 269s - loss: 0.1485 - accuracy: 0.9440 - val_loss: 0.4538 - val_accuracy: 0.8571\n",
            "Epoch 2/7\n",
            "168/168 - 270s - loss: 0.1402 - accuracy: 0.9482 - val_loss: 0.4338 - val_accuracy: 0.8569\n",
            "Epoch 3/7\n",
            "168/168 - 269s - loss: 0.1390 - accuracy: 0.9489 - val_loss: 0.4388 - val_accuracy: 0.8604\n",
            "Epoch 4/7\n",
            "168/168 - 268s - loss: 0.1306 - accuracy: 0.9535 - val_loss: 0.4548 - val_accuracy: 0.8582\n",
            "Epoch 5/7\n",
            "168/168 - 269s - loss: 0.1240 - accuracy: 0.9552 - val_loss: 0.4772 - val_accuracy: 0.8621\n",
            "Epoch 6/7\n",
            "168/168 - 270s - loss: 0.1206 - accuracy: 0.9571 - val_loss: 0.4989 - val_accuracy: 0.8530\n",
            "Epoch 7/7\n",
            "168/168 - 270s - loss: 0.1110 - accuracy: 0.9604 - val_loss: 0.4798 - val_accuracy: 0.8599\n",
            "413/413 - 52s - loss: 0.4601 - accuracy: 0.8570\n",
            "Test Score: 0.460128515958786\n",
            "Test Accuracy: 0.8570454716682434\n"
          ],
          "name": "stdout"
        }
      ]
    },
    {
      "cell_type": "code",
      "metadata": {
        "colab": {
          "base_uri": "https://localhost:8080/",
          "height": 573
        },
        "id": "pF0e_Syi1PcI",
        "outputId": "eb379d77-98cb-4b33-a250-9f4033965095"
      },
      "source": [
        "#plot\n",
        "plt.title('model accuracy')\n",
        "plt.ylabel('accuracy')\n",
        "plt.xlabel('epoch')\n",
        "plt.legend(['train','test'], loc='upper left')\n",
        "plt.plot(history.history['accuracy'],'r--')\n",
        "plt.plot(history.history['val_accuracy'])\n",
        "plt.show()\n",
        "\n",
        "\n",
        "\n",
        "plt.title('model loss')\n",
        "plt.ylabel('loss')\n",
        "plt.xlabel('epoch')\n",
        "plt.legend(['train','test'], loc='upper left')\n",
        "plt.plot(history.history['loss'],'r--')\n",
        "plt.plot(history.history['val_loss'])\n",
        "plt.show()"
      ],
      "execution_count": null,
      "outputs": [
        {
          "output_type": "display_data",
          "data": {
            "image/png": "[encoded data removed]",
            "text/plain": [
              "<Figure size 432x288 with 1 Axes>"
            ]
          },
          "metadata": {
            "tags": [],
            "needs_background": "light"
          }
        },
        {
          "output_type": "display_data",
          "data": {
            "image/png": "[encoded data removed]",
            "text/plain": [
              "<Figure size 432x288 with 1 Axes>"
            ]
          },
          "metadata": {
            "tags": [],
            "needs_background": "light"
          }
        }
      ]
    },
    {
      "cell_type": "code",
      "metadata": {
        "colab": {
          "base_uri": "https://localhost:8080/"
        },
        "id": "1dudzMxtw9Jj",
        "outputId": "f86ddfc5-17f2-4f7d-fd5e-c1da6240ca80"
      },
      "source": [
        "result=model.predict_classes(X_TestData)\n",
        "print(result)\n"
      ],
      "execution_count": null,
      "outputs": [
        {
          "output_type": "stream",
          "text": [
            "/usr/local/lib/python3.7/dist-packages/keras/engine/sequential.py:450: UserWarning: `model.predict_classes()` is deprecated and will be removed after 2021-01-01. Please use instead:* `np.argmax(model.predict(x), axis=-1)`,   if your model does multi-class classification   (e.g. if it uses a `softmax` last-layer activation).* `(model.predict(x) > 0.5).astype(\"int32\")`,   if your model does binary classification   (e.g. if it uses a `sigmoid` last-layer activation).\n",
            "  warnings.warn('`model.predict_classes()` is deprecated and '\n"
          ],
          "name": "stderr"
        },
        {
          "output_type": "stream",
          "text": [
            "[1 0 0 ... 0 0 1]\n"
          ],
          "name": "stdout"
        }
      ]
    },
    {
      "cell_type": "code",
      "metadata": {
        "id": "AOBHi18jFvxw"
      },
      "source": [
        "df= open(\"pri.csv\", \"w\")\n",
        "df=pd.DataFrame(data=list(zip(TestData['ID'],result)),columns=['ID','label'])\n",
        "pred_Data=df.to_csv('pri.csv',',',index=False)"
      ],
      "execution_count": null,
      "outputs": []
    }
  ]
}